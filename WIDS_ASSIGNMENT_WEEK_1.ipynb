{
  "nbformat": 4,
  "nbformat_minor": 0,
  "metadata": {
    "colab": {
      "provenance": []
    },
    "kernelspec": {
      "name": "python3",
      "display_name": "Python 3"
    },
    "language_info": {
      "name": "python"
    }
  },
  "cells": [
    {
      "cell_type": "code",
      "execution_count": 1,
      "metadata": {
        "id": "xlTEO2uYCZ1s"
      },
      "outputs": [],
      "source": [
        "import numpy as np\n",
        "import math\n",
        "\n"
      ]
    },
    {
      "cell_type": "markdown",
      "source": [
        "TASK 1"
      ],
      "metadata": {
        "id": "-mzJmbGWFz7K"
      }
    },
    {
      "cell_type": "code",
      "source": [
        "class Activation(object):\n",
        "\n",
        "    \"\"\"\n",
        "    Interface for activation functions (non-linearities).\n",
        "\n",
        "    In all implementations, the state attribute must contain the result,\n",
        "    i.e. the output of forward.\n",
        "    \"\"\"\n",
        "\n",
        "    # No additional work is needed for this class, as it acts like an\n",
        "    # abstract base class for the others\n",
        "\n",
        "    # Note that these activation functions are scalar operations. I.e, they\n",
        "    # shouldn't change the shape of the input.\n",
        "\n",
        "    def __init__(self):\n",
        "        self.state = None\n",
        "\n",
        "    def __call__(self, x):\n",
        "        return self.forward(x)\n",
        "\n",
        "    def forward(self, x):\n",
        "        raise NotImplemented\n",
        "\n",
        "    def derivative(self):\n",
        "        raise NotImplemented"
      ],
      "metadata": {
        "id": "SQ432QxiCuuD"
      },
      "execution_count": 2,
      "outputs": []
    },
    {
      "cell_type": "code",
      "source": [
        "class Sigmoid(Activation):\n",
        "\n",
        "    \"\"\"\n",
        "    Sigmoid non-linearity\n",
        "    \"\"\"\n",
        "\n",
        "    # Remember do not change the function signatures as those are needed\n",
        "    # to stay the same for AutoLab.\n",
        "\n",
        "    def __init__(self):\n",
        "        super(Sigmoid, self).__init__()\n",
        "\n",
        "    def forward(self, x):\n",
        "        # Might we need to store something before returning?\n",
        "        self.state = 1/(1+np.exp(-x)) # the sigmoid function in the forward neural network\n",
        "        return self.state\n",
        "\n",
        "    def derivative(self):\n",
        "        # Maybe something we need later in here...\n",
        "        return self.state*(1-self.state) # the derivative of sigmoid can be written as sigmoid(x) * (1 - sigmoid(x))\n",
        "\n",
        "\n",
        ""
      ],
      "metadata": {
        "id": "Dh5G-vxQELvR"
      },
      "execution_count": 3,
      "outputs": []
    },
    {
      "cell_type": "code",
      "source": [
        "class Tanh(Activation):\n",
        "\n",
        "    \"\"\"\n",
        "    Tanh non-linearity\n",
        "    \"\"\"\n",
        "\n",
        "    def __init__(self):\n",
        "        super(Tanh, self).__init__()\n",
        "\n",
        "    def forward(self, x):\n",
        "        self.state = np.tanh(x) #forward is simply tanh\n",
        "\n",
        "    def derivative(self):\n",
        "        return 1.0 - self.state**2 #derivative is 1 - tanh^2\n",
        ""
      ],
      "metadata": {
        "id": "Mp0LbNkBE3eS"
      },
      "execution_count": 4,
      "outputs": []
    },
    {
      "cell_type": "code",
      "source": [
        "class ReLU(Activation):\n",
        "\n",
        "    \"\"\"\n",
        "    ReLU non-linearity\n",
        "    \"\"\"\n",
        "\n",
        "    def __init__(self):\n",
        "        super(ReLU, self).__init__()\n",
        "\n",
        "    def forward(self, x):\n",
        "        self.state = np.maximum(0,x) #forward is simply max(0,x)\n",
        "\n",
        "    def derivative(self):\n",
        "        return np.where(self.state > 0, 1, 0) # Derivative of ReLU is 1 if x > 0 else 0"
      ],
      "metadata": {
        "id": "i5hidSytFdIC"
      },
      "execution_count": 5,
      "outputs": []
    },
    {
      "cell_type": "markdown",
      "source": [
        "TASK 2"
      ],
      "metadata": {
        "id": "321prLggF2Ju"
      }
    },
    {
      "cell_type": "code",
      "source": [
        "class Criterion(object):\n",
        "    \"\"\"\n",
        "    Interface for loss functions.\n",
        "    \"\"\"\n",
        "\n",
        "    # Nothing needs done to this class, it's used by the following Criterion classes\n",
        "\n",
        "    def __init__(self):\n",
        "        self.logits = None\n",
        "        self.labels = None\n",
        "        self.loss = None\n",
        "\n",
        "    def __call__(self, x, y):\n",
        "        return self.forward(x, y)\n",
        "\n",
        "    def forward(self, x, y):\n",
        "        raise NotImplemented\n",
        "\n",
        "    def derivative(self):\n",
        "        raise NotImplemented"
      ],
      "metadata": {
        "id": "g7Yd2Ik0F3kC"
      },
      "execution_count": 6,
      "outputs": []
    },
    {
      "cell_type": "code",
      "source": [
        "class SoftmaxCrossEntropy(Criterion):\n",
        "    \"\"\"\n",
        "    Softmax loss\n",
        "    \"\"\"\n",
        "\n",
        "    def __init__(self):\n",
        "        super(SoftmaxCrossEntropy, self).__init__()\n",
        "        self.logits = None  # To store input logits from forward pass\n",
        "        self.labels = None  # To store labels from forward pass\n",
        "        self.softmax_output = None  # To store softmax output for backward computation\n",
        "\n",
        "    def forward(self, x, y):\n",
        "        \"\"\"\n",
        "        Argument:\n",
        "            x (np.array): (batch size, 10)\n",
        "            y (np.array): (batch size, 10)\n",
        "        Return:\n",
        "            out (np.array): (batch size, )\n",
        "        \"\"\"\n",
        "        # Using the LogSumExp trick for numerical stability\n",
        "        log_sum_exp = np.log(np.sum(np.exp(x - np.max(x, axis=1, keepdims=True)), axis=1, keepdims=True)) + np.max(x, axis=1, keepdims=True)\n",
        "        log_softmax = x - log_sum_exp  # Log of softmax\n",
        "        self.softmax_output = np.exp(log_softmax)  # Softmax output\n",
        "\n",
        "        # Computing cross-entropy loss\n",
        "        batch_loss = -np.sum(y * log_softmax, axis=1)\n",
        "        self.logits = x\n",
        "        self.labels = y\n",
        "\n",
        "        return batch_loss\n",
        "\n",
        "    def derivative(self):\n",
        "        \"\"\"\n",
        "        Return:\n",
        "            out (np.array): (batch size, 10)\n",
        "        \"\"\"\n",
        "        # Derivative of softmax cross-entropy w.r.t. logits\n",
        "        return self.softmax_output - self.labels\n"
      ],
      "metadata": {
        "id": "OTJE7QJaHbjg"
      },
      "execution_count": 7,
      "outputs": []
    },
    {
      "cell_type": "markdown",
      "source": [
        "TASK 3"
      ],
      "metadata": {
        "id": "fGB_7Z5LhsG2"
      }
    },
    {
      "cell_type": "code",
      "source": [
        "\n",
        "class Linear():\n",
        "    def __init__(self, in_feature, out_feature, weight_init_fn, bias_init_fn):\n",
        "        \"\"\"\n",
        "        Argument:\n",
        "            W (np.array): (in feature, out feature)\n",
        "            dW (np.array): (in feature, out feature)\n",
        "            momentum_W (np.array): (in feature, out feature)\n",
        "\n",
        "            b (np.array): (1, out feature)\n",
        "            db (np.array): (1, out feature)\n",
        "            momentum_B (np.array): (1, out feature)\n",
        "        \"\"\"\n",
        "\n",
        "        # Initialize weights and biases using provided functions\n",
        "        self.W = weight_init_fn(in_feature, out_feature)  # Shape: (in_feature, out_feature)\n",
        "        self.b = bias_init_fn(out_feature)  # Shape: (1, out_feature)\n",
        "\n",
        "        # Gradients and momentum placeholders (with proper shapes)\n",
        "        self.dW = np.zeros_like(self.W)  # Same shape as W\n",
        "        self.db = np.zeros_like(self.b)  # Same shape as b\n",
        "\n",
        "        self.momentum_W = np.zeros_like(self.W)  # Same shape as W\n",
        "        self.momentum_b = np.zeros_like(self.b)  # Same shape as b\n",
        "\n",
        "        # Placeholder for input, needed for backward computation\n",
        "        self.input = None\n",
        "\n",
        "    def __call__(self, x):\n",
        "        return self.forward(x)\n",
        "\n",
        "    def forward(self, x):\n",
        "        \"\"\"\n",
        "        Argument:\n",
        "            x (np.array): (batch size, in feature)\n",
        "        Return:\n",
        "            out (np.array): (batch size, out feature)\n",
        "        \"\"\"\n",
        "        self.input = x  # Save the input for use in backward pass\n",
        "        out = np.dot(x, self.W) + self.b  # Linear transformation: XW + b\n",
        "        return out\n",
        "\n",
        "    def backward(self, delta):\n",
        "        \"\"\"\n",
        "        Argument:\n",
        "            delta (np.array): (batch size, out feature) - Derivative of loss w.r.t output\n",
        "        Return:\n",
        "            out (np.array): (batch size, in feature) - Derivative of loss w.r.t input\n",
        "        \"\"\"\n",
        "        # Gradient w.r.t weights (averaged over the batch)\n",
        "        self.dW = np.dot(self.input.T, delta) / self.input.shape[0]  # Shape: (in_feature, out_feature)\n",
        "\n",
        "        # Gradient w.r.t biases (averaged over the batch)\n",
        "        self.db = np.sum(delta, axis=0, keepdims=True) / self.input.shape[0]  # Shape: (1, out_feature)\n",
        "\n",
        "        # Gradient w.r.t input to the layer\n",
        "        dx = np.dot(delta, self.W.T)  # Shape: (batch size, in_feature)\n",
        "\n",
        "        return dx\n"
      ],
      "metadata": {
        "id": "2x6asgIKIeln"
      },
      "execution_count": 8,
      "outputs": []
    },
    {
      "cell_type": "markdown",
      "source": [
        "TASK 4"
      ],
      "metadata": {
        "id": "sChzaBaqmIVp"
      }
    },
    {
      "cell_type": "code",
      "source": [
        "\n",
        "\n",
        "class MLP(object):\n",
        "\n",
        "    \"\"\"\n",
        "    A simple multilayer perceptron\n",
        "    \"\"\"\n",
        "\n",
        "    def __init__(self, input_size, output_size, hiddens, activations, weight_init_fn,\n",
        "                 bias_init_fn, criterion, lr):\n",
        "\n",
        "        # Don't change this -->\n",
        "        self.train_mode = True\n",
        "        self.nlayers = len(hiddens) + 1\n",
        "        self.input_size = input_size\n",
        "        self.output_size = output_size\n",
        "        self.activations = activations\n",
        "        self.criterion = criterion\n",
        "        self.lr = lr\n",
        "        # <---------------------\n",
        "\n",
        "        # Initialize linear layers\n",
        "        layers_sizes = [input_size] + hiddens + [output_size]\n",
        "        self.linear_layers = [\n",
        "            Linear(layers_sizes[i], layers_sizes[i + 1], weight_init_fn, bias_init_fn)\n",
        "            for i in range(len(layers_sizes) - 1)\n",
        "        ]\n",
        "\n",
        "    def forward(self, x):\n",
        "        \"\"\"\n",
        "        Argument:\n",
        "            x (np.array): (batch size, input_size)\n",
        "        Return:\n",
        "            out (np.array): (batch size, output_size)\n",
        "        \"\"\"\n",
        "        self.inputs = []  # StorING inputs to each layer for backward pass\n",
        "        out = x\n",
        "        for i in range(self.nlayers):\n",
        "            self.inputs.append(out)\n",
        "            out = self.linear_layers[i].forward(out)  # Linear transformation\n",
        "            out = self.activations[i].forward(out)  # Activation function\n",
        "        self.output = out  # Store final output\n",
        "        return out\n",
        "\n",
        "    def zero_grads(self):\n",
        "        \"\"\"\n",
        "        Zero out gradients in linear layers.\n",
        "        \"\"\"\n",
        "        for layer in self.linear_layers:\n",
        "            layer.dW.fill(0.0)\n",
        "            layer.db.fill(0.0)\n",
        "\n",
        "    def step(self):\n",
        "        \"\"\"\n",
        "        Apply a gradient descent step to the parameters of the linear layers.\n",
        "        \"\"\"\n",
        "        for layer in self.linear_layers:\n",
        "            # Update weights and biases with learning rate\n",
        "            layer.W -= self.lr * layer.dW\n",
        "            layer.b -= self.lr * layer.db\n",
        "\n",
        "    def backward(self, labels):\n",
        "        \"\"\"\n",
        "        Backpropagate through the network to compute gradients.\n",
        "\n",
        "        Argument:\n",
        "            labels (np.array): (batch size, output_size)\n",
        "        \"\"\"\n",
        "        # Compute loss gradient w.r.t output\n",
        "        delta = self.criterion.derivative(self.output, labels)\n",
        "\n",
        "        for i in reversed(range(self.nlayers)):\n",
        "            # Backward pass through activation function\n",
        "            delta = self.activations[i].derivative(delta)\n",
        "\n",
        "            # Backward pass through linear layer\n",
        "            delta = self.linear_layers[i].backward(delta)\n",
        "\n",
        "    def error(self, labels):\n",
        "        \"\"\"\n",
        "        Compute classification error.\n",
        "        \"\"\"\n",
        "        return (np.argmax(self.output, axis=1) != np.argmax(labels, axis=1)).sum()\n",
        "\n",
        "    def total_loss(self, labels):\n",
        "        \"\"\"\n",
        "        Compute total loss for the given labels.\n",
        "        \"\"\"\n",
        "        return self.criterion(self.output, labels).sum()\n",
        "\n",
        "    def __call__(self, x):\n",
        "        return self.forward(x)\n",
        "\n",
        "    def train(self):\n",
        "        \"\"\"\n",
        "        Set the model to training mode.\n",
        "        \"\"\"\n",
        "        self.train_mode = True\n",
        "\n",
        "    def eval(self):\n",
        "        \"\"\"\n",
        "        Set the model to evaluation mode.\n",
        "        \"\"\"\n",
        "        self.train_mode = False\n"
      ],
      "metadata": {
        "id": "z8gv9cAAmJJf"
      },
      "execution_count": 9,
      "outputs": []
    }
  ]
}